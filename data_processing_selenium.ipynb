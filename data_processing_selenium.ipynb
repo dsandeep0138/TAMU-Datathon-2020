{
 "cells": [
  {
   "cell_type": "code",
   "execution_count": 1,
   "metadata": {},
   "outputs": [],
   "source": [
    "from bs4 import BeautifulSoup\n",
    "from selenium import webdriver\n",
    "import chromedriver_binary\n",
    "\n",
    "import requests,lxml\n",
    "import pandas as pd\n",
    "from tqdm import tqdm"
   ]
  },
  {
   "cell_type": "code",
   "execution_count": 2,
   "metadata": {},
   "outputs": [],
   "source": [
    "df = pd.read_csv(\"test.csv\", header=None)\n",
    "\n",
    "driver = webdriver.Chrome()"
   ]
  },
  {
   "cell_type": "code",
   "execution_count": 3,
   "metadata": {
    "scrolled": false
   },
   "outputs": [
    {
     "name": "stderr",
     "output_type": "stream",
     "text": [
      "22it [00:56,  2.57s/it]\n"
     ]
    }
   ],
   "source": [
    "docs = []\n",
    "ratings = []\n",
    "reviewCounts = []\n",
    "final_links = []\n",
    "cnt = 0\n",
    "new_df = pd.DataFrame()\n",
    "with open('test.csv') as file:\n",
    "    lines = file.readlines()\n",
    "    for index,line in tqdm(enumerate(lines)):\n",
    "        document = ''\n",
    "        \n",
    "        links = line.split(\",\")\n",
    "        url = links[1].strip()\n",
    "        url = url.strip(\"\\\"\")\n",
    "        #print(url)\n",
    "        #result = requests.get(url)\n",
    "        #soup = BeautifulSoup(result.content, 'lxml')\n",
    "        #print(soup)\n",
    "        \n",
    "        driver.get(url)\n",
    "\n",
    "        html = driver.page_source\n",
    "        soup = BeautifulSoup(html)\n",
    "        #print(soup)\n",
    "        \n",
    "        title = soup.find('h1', attrs = {'class': 'prod-ProductTitle prod-productTitle-buyBox font-bold'})\n",
    "        about = soup.find('div', attrs = {'class': 'about-desc about-product-description xs-margin-top'})\n",
    "        review = soup.find_all('div', attrs = {'class': 'collapsable-content-container'})\n",
    "        rating = soup.find('span', itemprop = \"ratingValue\")\n",
    "        reviewCount = soup.find('span', itemprop = \"reviewCount\")\n",
    "        \n",
    "        links = soup.find('div', attrs = {'class': 'persistent-controls'}).find(\"ul\").findChildren(\"li\" , recursive=False)\n",
    "        #print(links)\n",
    "        #\n",
    "        final_link = []\n",
    "        for link in links:\n",
    "            var = link.find(\"a\")\n",
    "            if var is not None:\n",
    "                final_link.append(\"https://www.walmart.com\"+var['href'].split('?')[0]) \n",
    "        #print(final_link)\n",
    "        #print(links)\n",
    "        final_links.append(final_link)\n",
    "        #print(\"*********************************\")\n",
    "        #break\n",
    "        \n",
    "        if title is not None:\n",
    "            productTitle = title.contents\n",
    "            if len(productTitle) >= 1:\n",
    "                document += str(productTitle[0])\n",
    "\n",
    "        if about is not None:\n",
    "            aboutItem = about.contents\n",
    "            if len(aboutItem) >= 1:\n",
    "                document += ' ' + str(aboutItem[0])\n",
    "\n",
    "        if len(review) >= 2:\n",
    "            for r in review[:2]:\n",
    "                rtext = r.find('div')\n",
    "                document += ' ' + str(rtext.contents[0])\n",
    "        \n",
    "        docs.append(document)\n",
    "        \n",
    "        if rating is None:\n",
    "            ratings.append('-1')\n",
    "        else:\n",
    "            ratings.append(rating.contents[0])\n",
    "        if reviewCount is None:\n",
    "            reviewCounts.append('-1')\n",
    "        else:\n",
    "            reviewCounts.append(reviewCount.contents[0])\n",
    "        if(index%5==0):\n",
    "            new_df[\"ratings\"] = ratings\n",
    "            new_df[\"reviewCounts\"] = reviewCounts\n",
    "            new_df[\"documents\"] = docs\n",
    "            new_df[\"links\"] = final_links\n",
    "            docs = []\n",
    "            ratings = []\n",
    "            reviewCounts = []\n",
    "            final_links = []\n",
    "            with open('test_res.csv','a',newline='') as file:\n",
    "                new_df.to_csv(file, header=False,index = False)\n",
    "            new_df = pd.DataFrame()\n",
    "                \n",
    "        \n",
    "            \n",
    "# df[\"ratings\"] = ratings\n",
    "# df[\"reviewCounts\"] = reviewCounts\n",
    "# df[\"documents\"] = docs\n",
    "# df[\"links\"] = final_links\n",
    "\n",
    "# df.to_csv(\"test_res.csv\", index = False)"
   ]
  },
  {
   "cell_type": "code",
   "execution_count": 4,
   "metadata": {},
   "outputs": [],
   "source": [
    "driver.close()"
   ]
  },
  {
   "cell_type": "code",
   "execution_count": null,
   "metadata": {},
   "outputs": [],
   "source": []
  }
 ],
 "metadata": {
  "kernelspec": {
   "display_name": "Python 3",
   "language": "python",
   "name": "python3"
  },
  "language_info": {
   "codemirror_mode": {
    "name": "ipython",
    "version": 3
   },
   "file_extension": ".py",
   "mimetype": "text/x-python",
   "name": "python",
   "nbconvert_exporter": "python",
   "pygments_lexer": "ipython3",
   "version": "3.7.4"
  }
 },
 "nbformat": 4,
 "nbformat_minor": 2
}
